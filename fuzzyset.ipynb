{
  "nbformat": 4,
  "nbformat_minor": 0,
  "metadata": {
    "colab": {
      "provenance": [],
      "include_colab_link": true
    },
    "kernelspec": {
      "name": "python3",
      "display_name": "Python 3"
    },
    "language_info": {
      "name": "python"
    }
  },
  "cells": [
    {
      "cell_type": "markdown",
      "metadata": {
        "id": "view-in-github",
        "colab_type": "text"
      },
      "source": [
        "<a href=\"https://colab.research.google.com/github/Shashiawari/FuzzySets/blob/main/fuzzyset.ipynb\" target=\"_parent\"><img src=\"https://colab.research.google.com/assets/colab-badge.svg\" alt=\"Open In Colab\"/></a>"
      ]
    },
    {
      "cell_type": "code",
      "execution_count": null,
      "metadata": {
        "colab": {
          "base_uri": "https://localhost:8080/"
        },
        "id": "g2P5r3jL013C",
        "outputId": "e7b246f5-f1fc-438b-c5b0-703a32523095"
      },
      "outputs": [
        {
          "output_type": "stream",
          "name": "stdout",
          "text": [
            "Union of fuzzy sets:\n",
            "[0.4, 0.6, 0.8, 1.0, 1.0]\n",
            "\n",
            "Intersection of fuzzy sets:\n",
            "[0.2, 0.4, 0.6, 0.8, 0.6]\n"
          ]
        }
      ],
      "source": [
        "class FuzzySet:\n",
        "    def __init__(self, values):\n",
        "        self.values = values\n",
        "\n",
        "    def union(self, other_set):\n",
        "        # Union of two fuzzy sets\n",
        "        result_values = [max(a, b) for a, b in zip(self.values, other_set.values)]\n",
        "        return FuzzySet(result_values)\n",
        "\n",
        "    def intersection(self, other_set):\n",
        "        # Intersection of two fuzzy sets\n",
        "        result_values = [min(a, b) for a, b in zip(self.values, other_set.values)]\n",
        "        return FuzzySet(result_values)\n",
        "\n",
        "    def display(self):\n",
        "        # Display the fuzzy set values\n",
        "        print(self.values)\n",
        "\n",
        "if __name__ == \"__main__\":\n",
        "    # Example fuzzy sets\n",
        "    set1 = FuzzySet([0.2, 0.4, 0.6, 0.8, 1.0])\n",
        "    set2 = FuzzySet([0.4, 0.6, 0.8, 1.0, 0.6])\n",
        "\n",
        "    # Union of fuzzy sets\n",
        "    union_set = set1.union(set2)\n",
        "    print(\"Union of fuzzy sets:\")\n",
        "    union_set.display()\n",
        "\n",
        "    # Intersection of fuzzy sets\n",
        "    intersection_set = set1.intersection(set2)\n",
        "    print(\"\\nIntersection of fuzzy sets:\")\n",
        "    intersection_set.display()\n"
      ]
    }
  ]
}